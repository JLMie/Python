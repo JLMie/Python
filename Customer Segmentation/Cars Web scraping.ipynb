{
 "cells": [
  {
   "cell_type": "markdown",
   "id": "ee9bfe1a",
   "metadata": {},
   "source": [
    "On Google Chrome.\n",
    "Chrome dev tools. \n",
    "CTRL + SHIFT + I"
   ]
  },
  {
   "cell_type": "code",
   "execution_count": 1,
   "id": "343b73e1",
   "metadata": {},
   "outputs": [],
   "source": [
    "#pip install beautifulsoup4"
   ]
  },
  {
   "cell_type": "code",
   "execution_count": 2,
   "id": "943b178d",
   "metadata": {},
   "outputs": [],
   "source": [
    "import requests\n",
    "from bs4 import BeautifulSoup"
   ]
  },
  {
   "cell_type": "code",
   "execution_count": 3,
   "id": "89ecf303",
   "metadata": {},
   "outputs": [],
   "source": [
    "#download the webpage\n",
    "url = \"https://www.caranddriver.com/es/coches/planeta-motor/g37318039/coches-consumen-menos-combustible/\"\n",
    "page = requests.get(url)"
   ]
  },
  {
   "cell_type": "code",
   "execution_count": 4,
   "id": "ec67347a",
   "metadata": {},
   "outputs": [
    {
     "data": {
      "text/plain": [
       "200"
      ]
     },
     "execution_count": 4,
     "metadata": {},
     "output_type": "execute_result"
    }
   ],
   "source": [
    "response = requests.get(url)\n",
    "response.status_code"
   ]
  },
  {
   "cell_type": "code",
   "execution_count": 5,
   "id": "eb6bbb0e",
   "metadata": {},
   "outputs": [],
   "source": [
    "#parse the html\n",
    "soup = BeautifulSoup(response.content,'html.parser')"
   ]
  },
  {
   "cell_type": "code",
   "execution_count": 6,
   "id": "089fdcb3",
   "metadata": {},
   "outputs": [],
   "source": [
    "# print the formatted html\n",
    "#soup.select(\"#main-content\")"
   ]
  },
  {
   "cell_type": "code",
   "execution_count": 7,
   "id": "4544701a",
   "metadata": {},
   "outputs": [
    {
     "data": {
      "text/plain": [
       "20"
      ]
     },
     "execution_count": 7,
     "metadata": {},
     "output_type": "execute_result"
    }
   ],
   "source": [
    "len(soup.select(\"div > div > div > h2\"))"
   ]
  },
  {
   "cell_type": "code",
   "execution_count": 8,
   "id": "20fc9853",
   "metadata": {},
   "outputs": [
    {
     "data": {
      "text/plain": [
       "'Mazda 2 (gasolina)'"
      ]
     },
     "execution_count": 8,
     "metadata": {},
     "output_type": "execute_result"
    }
   ],
   "source": [
    "soup.select(\"div > div > div > h2\")[2].get_text()"
   ]
  },
  {
   "cell_type": "code",
   "execution_count": 9,
   "id": "f204ac06",
   "metadata": {},
   "outputs": [
    {
     "data": {
      "text/plain": [
       "'BMW Serie 2 Active Tourer (PHEV)'"
      ]
     },
     "execution_count": 9,
     "metadata": {},
     "output_type": "execute_result"
    }
   ],
   "source": [
    "soup.select(\"div > div > div > h2\")[19].get_text()"
   ]
  },
  {
   "cell_type": "code",
   "execution_count": 10,
   "id": "736e6091",
   "metadata": {},
   "outputs": [
    {
     "name": "stdout",
     "output_type": "stream",
     "text": [
      "['Toyota Aygo X Cross (gasolina)', 'Suzuki Swift (gasolina)', 'Mazda 2 (gasolina)', 'Fiat 500 Hybrid (gasolina)', 'Mazda 3 Sedán (gasolina)', 'Toyota Yaris Cross (híbrido)', 'Kia Niro (Híbrido)', 'Toyota Corolla (Híbrido)', 'Skoda Octavia (diésel)', 'Volkswagen Golf (diésel)', 'Audi A3 Sedán (diésel)', 'Peugeot 208 (diésel)', 'Renault Clio (diésel)', 'Toyota Yaris (híbrido)', 'Mazda 2 Hybrid (híbrido)', 'Range Rover Sport (PHEV)', 'Mercedes GLE (PHEV)', 'Volvo S60 (PHEV)', 'Mercedes Clase S (PHEV)', 'BMW Serie 2 Active Tourer (PHEV)']\n"
     ]
    }
   ],
   "source": [
    "car_models = []\n",
    "for i in range(len(soup.select(\"div > div > div > h2\"))):\n",
    "    car_models.append(soup.select(\"div > div > div > h2\")[i].get_text())\n",
    "\n",
    "print(car_models)"
   ]
  },
  {
   "cell_type": "code",
   "execution_count": 11,
   "id": "08356b65",
   "metadata": {},
   "outputs": [],
   "source": [
    "#texts = soup.select(\" div > div > div > div > div > p\")\n",
    "#texts"
   ]
  },
  {
   "cell_type": "code",
   "execution_count": 12,
   "id": "bbfb59fe",
   "metadata": {},
   "outputs": [
    {
     "data": {
      "text/plain": [
       "'Ha sido el último en llegar y ha estado a punto de colocarse como el modelo de gasolina más eficiente, por lo que el Toyota Aygo X Cross se tendrá que conformar con la segunda posición del ranking. Esto es así porque su motor atmosférico de tres cilindros y 72 caballos de potencia necesita de 4,8 litros para recorrer 100 kilómetros. ¿Quién se habrá posicionado por delante suya?'"
      ]
     },
     "execution_count": 12,
     "metadata": {},
     "output_type": "execute_result"
    }
   ],
   "source": [
    "soup.select(\"div > div > div > div > div > p\")[0].get_text()"
   ]
  },
  {
   "cell_type": "code",
   "execution_count": 13,
   "id": "88e2d970",
   "metadata": {},
   "outputs": [
    {
     "data": {
      "text/plain": [
       "'El Kia Niro es una opción interesante para aquellos que busquen un vehículo más amplio que permita realizar viajes en familia y con un consumo de combustible ajustado, como así anuncian los 4,4 litros por cada 100 kilómetros que homologa esta versión híbrida de la nueva generación. El sistema híbrido desarrolla 141 caballos de potencia y un par máximo de 265 Nm, asociado a una caja de cambios automática de doble embrague y seis velocidades.'"
      ]
     },
     "execution_count": 13,
     "metadata": {},
     "output_type": "execute_result"
    }
   ],
   "source": [
    "car_description = []\n",
    "\n",
    "for i in range(len(soup.select(\"div > div > div > h2\"))):\n",
    "    car_description.append(soup.select(\"div > div > div > div > div > p\")[i].get_text())\n",
    "\n",
    "car_description[6]"
   ]
  },
  {
   "cell_type": "code",
   "execution_count": 14,
   "id": "efe7f112",
   "metadata": {},
   "outputs": [
    {
     "data": {
      "text/html": [
       "<div>\n",
       "<style scoped>\n",
       "    .dataframe tbody tr th:only-of-type {\n",
       "        vertical-align: middle;\n",
       "    }\n",
       "\n",
       "    .dataframe tbody tr th {\n",
       "        vertical-align: top;\n",
       "    }\n",
       "\n",
       "    .dataframe thead th {\n",
       "        text-align: right;\n",
       "    }\n",
       "</style>\n",
       "<table border=\"1\" class=\"dataframe\">\n",
       "  <thead>\n",
       "    <tr style=\"text-align: right;\">\n",
       "      <th></th>\n",
       "      <th>Car model</th>\n",
       "      <th>Description</th>\n",
       "    </tr>\n",
       "  </thead>\n",
       "  <tbody>\n",
       "    <tr>\n",
       "      <th>0</th>\n",
       "      <td>Toyota Aygo X Cross (gasolina)</td>\n",
       "      <td>Ha sido el último en llegar y ha estado a punt...</td>\n",
       "    </tr>\n",
       "    <tr>\n",
       "      <th>1</th>\n",
       "      <td>Suzuki Swift (gasolina)</td>\n",
       "      <td>Uno de los modelos más eficientes de su catego...</td>\n",
       "    </tr>\n",
       "    <tr>\n",
       "      <th>2</th>\n",
       "      <td>Mazda 2 (gasolina)</td>\n",
       "      <td>El tercer coche de gasolina más eficiente de n...</td>\n",
       "    </tr>\n",
       "    <tr>\n",
       "      <th>3</th>\n",
       "      <td>Fiat 500 Hybrid (gasolina)</td>\n",
       "      <td>El título del segundo automóvil alimentado por...</td>\n",
       "    </tr>\n",
       "    <tr>\n",
       "      <th>4</th>\n",
       "      <td>Mazda 3 Sedán (gasolina)</td>\n",
       "      <td>El rey de la eficiencia de los motores de gaso...</td>\n",
       "    </tr>\n",
       "    <tr>\n",
       "      <th>5</th>\n",
       "      <td>Toyota Yaris Cross (híbrido)</td>\n",
       "      <td>La buena aceptación que está teniendo el Toyot...</td>\n",
       "    </tr>\n",
       "    <tr>\n",
       "      <th>6</th>\n",
       "      <td>Kia Niro (Híbrido)</td>\n",
       "      <td>El Kia Niro es una opción interesante para aqu...</td>\n",
       "    </tr>\n",
       "    <tr>\n",
       "      <th>7</th>\n",
       "      <td>Toyota Corolla (Híbrido)</td>\n",
       "      <td>El pasado año se coló entre los 10 coches más ...</td>\n",
       "    </tr>\n",
       "    <tr>\n",
       "      <th>8</th>\n",
       "      <td>Skoda Octavia (diésel)</td>\n",
       "      <td>El modelo checo no solo es uno de los más cómo...</td>\n",
       "    </tr>\n",
       "    <tr>\n",
       "      <th>9</th>\n",
       "      <td>Volkswagen Golf (diésel)</td>\n",
       "      <td>El popular compacto alemán no quería perderse ...</td>\n",
       "    </tr>\n",
       "    <tr>\n",
       "      <th>10</th>\n",
       "      <td>Audi A3 Sedán (diésel)</td>\n",
       "      <td>El Audi A3 Sedan recurre al mismo bloque de 2....</td>\n",
       "    </tr>\n",
       "    <tr>\n",
       "      <th>11</th>\n",
       "      <td>Peugeot 208 (diésel)</td>\n",
       "      <td>El Grupo Stellantis también mantiene su apuest...</td>\n",
       "    </tr>\n",
       "    <tr>\n",
       "      <th>12</th>\n",
       "      <td>Renault Clio (diésel)</td>\n",
       "      <td>Es uno de los utilitarios más populares del me...</td>\n",
       "    </tr>\n",
       "    <tr>\n",
       "      <th>13</th>\n",
       "      <td>Toyota Yaris (híbrido)</td>\n",
       "      <td>Hablar de utilitarios híbridos en España es si...</td>\n",
       "    </tr>\n",
       "    <tr>\n",
       "      <th>14</th>\n",
       "      <td>Mazda 2 Hybrid (híbrido)</td>\n",
       "      <td>El utilitario japonés repite en esta clasifica...</td>\n",
       "    </tr>\n",
       "    <tr>\n",
       "      <th>15</th>\n",
       "      <td>Range Rover Sport (PHEV)</td>\n",
       "      <td>La nueva generación del Range Rover Sport apor...</td>\n",
       "    </tr>\n",
       "    <tr>\n",
       "      <th>16</th>\n",
       "      <td>Mercedes GLE (PHEV)</td>\n",
       "      <td>Se ha renovado recientemente y su gran enverga...</td>\n",
       "    </tr>\n",
       "    <tr>\n",
       "      <th>17</th>\n",
       "      <td>Volvo S60 (PHEV)</td>\n",
       "      <td>La firma sueca ha apostado fuertemente por las...</td>\n",
       "    </tr>\n",
       "    <tr>\n",
       "      <th>18</th>\n",
       "      <td>Mercedes Clase S (PHEV)</td>\n",
       "      <td>La última motorización en incorporarse a la ga...</td>\n",
       "    </tr>\n",
       "    <tr>\n",
       "      <th>19</th>\n",
       "      <td>BMW Serie 2 Active Tourer (PHEV)</td>\n",
       "      <td>La nueva generación del BMW Serie 2 Active Tou...</td>\n",
       "    </tr>\n",
       "  </tbody>\n",
       "</table>\n",
       "</div>"
      ],
      "text/plain": [
       "                           Car model  \\\n",
       "0     Toyota Aygo X Cross (gasolina)   \n",
       "1            Suzuki Swift (gasolina)   \n",
       "2                 Mazda 2 (gasolina)   \n",
       "3         Fiat 500 Hybrid (gasolina)   \n",
       "4           Mazda 3 Sedán (gasolina)   \n",
       "5       Toyota Yaris Cross (híbrido)   \n",
       "6                 Kia Niro (Híbrido)   \n",
       "7           Toyota Corolla (Híbrido)   \n",
       "8             Skoda Octavia (diésel)   \n",
       "9           Volkswagen Golf (diésel)   \n",
       "10            Audi A3 Sedán (diésel)   \n",
       "11              Peugeot 208 (diésel)   \n",
       "12             Renault Clio (diésel)   \n",
       "13            Toyota Yaris (híbrido)   \n",
       "14          Mazda 2 Hybrid (híbrido)   \n",
       "15          Range Rover Sport (PHEV)   \n",
       "16               Mercedes GLE (PHEV)   \n",
       "17                  Volvo S60 (PHEV)   \n",
       "18           Mercedes Clase S (PHEV)   \n",
       "19  BMW Serie 2 Active Tourer (PHEV)   \n",
       "\n",
       "                                          Description  \n",
       "0   Ha sido el último en llegar y ha estado a punt...  \n",
       "1   Uno de los modelos más eficientes de su catego...  \n",
       "2   El tercer coche de gasolina más eficiente de n...  \n",
       "3   El título del segundo automóvil alimentado por...  \n",
       "4   El rey de la eficiencia de los motores de gaso...  \n",
       "5   La buena aceptación que está teniendo el Toyot...  \n",
       "6   El Kia Niro es una opción interesante para aqu...  \n",
       "7   El pasado año se coló entre los 10 coches más ...  \n",
       "8   El modelo checo no solo es uno de los más cómo...  \n",
       "9   El popular compacto alemán no quería perderse ...  \n",
       "10  El Audi A3 Sedan recurre al mismo bloque de 2....  \n",
       "11  El Grupo Stellantis también mantiene su apuest...  \n",
       "12  Es uno de los utilitarios más populares del me...  \n",
       "13  Hablar de utilitarios híbridos en España es si...  \n",
       "14  El utilitario japonés repite en esta clasifica...  \n",
       "15  La nueva generación del Range Rover Sport apor...  \n",
       "16  Se ha renovado recientemente y su gran enverga...  \n",
       "17  La firma sueca ha apostado fuertemente por las...  \n",
       "18  La última motorización en incorporarse a la ga...  \n",
       "19  La nueva generación del BMW Serie 2 Active Tou...  "
      ]
     },
     "execution_count": 14,
     "metadata": {},
     "output_type": "execute_result"
    }
   ],
   "source": [
    "import pandas as pd\n",
    "sc_df = pd.DataFrame({'Car model':car_models,'Description':car_description})\n",
    "sc_df"
   ]
  },
  {
   "cell_type": "code",
   "execution_count": 15,
   "id": "082d140f",
   "metadata": {},
   "outputs": [],
   "source": [
    "sc_df = sc_df.drop([3, 4, 7, 10, 11, 15, 16, 18])"
   ]
  },
  {
   "cell_type": "code",
   "execution_count": 16,
   "id": "30dca23e",
   "metadata": {},
   "outputs": [],
   "source": [
    "sc_df.reset_index(drop=True, inplace=True)"
   ]
  },
  {
   "cell_type": "code",
   "execution_count": 17,
   "id": "118ed1ad",
   "metadata": {},
   "outputs": [
    {
     "data": {
      "text/html": [
       "<div>\n",
       "<style scoped>\n",
       "    .dataframe tbody tr th:only-of-type {\n",
       "        vertical-align: middle;\n",
       "    }\n",
       "\n",
       "    .dataframe tbody tr th {\n",
       "        vertical-align: top;\n",
       "    }\n",
       "\n",
       "    .dataframe thead th {\n",
       "        text-align: right;\n",
       "    }\n",
       "</style>\n",
       "<table border=\"1\" class=\"dataframe\">\n",
       "  <thead>\n",
       "    <tr style=\"text-align: right;\">\n",
       "      <th></th>\n",
       "      <th>Car model</th>\n",
       "      <th>Description</th>\n",
       "    </tr>\n",
       "  </thead>\n",
       "  <tbody>\n",
       "    <tr>\n",
       "      <th>0</th>\n",
       "      <td>Toyota Aygo X Cross (gasolina)</td>\n",
       "      <td>Ha sido el último en llegar y ha estado a punt...</td>\n",
       "    </tr>\n",
       "    <tr>\n",
       "      <th>1</th>\n",
       "      <td>Suzuki Swift (gasolina)</td>\n",
       "      <td>Uno de los modelos más eficientes de su catego...</td>\n",
       "    </tr>\n",
       "    <tr>\n",
       "      <th>2</th>\n",
       "      <td>Mazda 2 (gasolina)</td>\n",
       "      <td>El tercer coche de gasolina más eficiente de n...</td>\n",
       "    </tr>\n",
       "    <tr>\n",
       "      <th>3</th>\n",
       "      <td>Toyota Yaris Cross (híbrido)</td>\n",
       "      <td>La buena aceptación que está teniendo el Toyot...</td>\n",
       "    </tr>\n",
       "    <tr>\n",
       "      <th>4</th>\n",
       "      <td>Kia Niro (Híbrido)</td>\n",
       "      <td>El Kia Niro es una opción interesante para aqu...</td>\n",
       "    </tr>\n",
       "    <tr>\n",
       "      <th>5</th>\n",
       "      <td>Skoda Octavia (diésel)</td>\n",
       "      <td>El modelo checo no solo es uno de los más cómo...</td>\n",
       "    </tr>\n",
       "    <tr>\n",
       "      <th>6</th>\n",
       "      <td>Volkswagen Golf (diésel)</td>\n",
       "      <td>El popular compacto alemán no quería perderse ...</td>\n",
       "    </tr>\n",
       "    <tr>\n",
       "      <th>7</th>\n",
       "      <td>Renault Clio (diésel)</td>\n",
       "      <td>Es uno de los utilitarios más populares del me...</td>\n",
       "    </tr>\n",
       "    <tr>\n",
       "      <th>8</th>\n",
       "      <td>Toyota Yaris (híbrido)</td>\n",
       "      <td>Hablar de utilitarios híbridos en España es si...</td>\n",
       "    </tr>\n",
       "    <tr>\n",
       "      <th>9</th>\n",
       "      <td>Mazda 2 Hybrid (híbrido)</td>\n",
       "      <td>El utilitario japonés repite en esta clasifica...</td>\n",
       "    </tr>\n",
       "    <tr>\n",
       "      <th>10</th>\n",
       "      <td>Volvo S60 (PHEV)</td>\n",
       "      <td>La firma sueca ha apostado fuertemente por las...</td>\n",
       "    </tr>\n",
       "    <tr>\n",
       "      <th>11</th>\n",
       "      <td>BMW Serie 2 Active Tourer (PHEV)</td>\n",
       "      <td>La nueva generación del BMW Serie 2 Active Tou...</td>\n",
       "    </tr>\n",
       "  </tbody>\n",
       "</table>\n",
       "</div>"
      ],
      "text/plain": [
       "                           Car model  \\\n",
       "0     Toyota Aygo X Cross (gasolina)   \n",
       "1            Suzuki Swift (gasolina)   \n",
       "2                 Mazda 2 (gasolina)   \n",
       "3       Toyota Yaris Cross (híbrido)   \n",
       "4                 Kia Niro (Híbrido)   \n",
       "5             Skoda Octavia (diésel)   \n",
       "6           Volkswagen Golf (diésel)   \n",
       "7              Renault Clio (diésel)   \n",
       "8             Toyota Yaris (híbrido)   \n",
       "9           Mazda 2 Hybrid (híbrido)   \n",
       "10                  Volvo S60 (PHEV)   \n",
       "11  BMW Serie 2 Active Tourer (PHEV)   \n",
       "\n",
       "                                          Description  \n",
       "0   Ha sido el último en llegar y ha estado a punt...  \n",
       "1   Uno de los modelos más eficientes de su catego...  \n",
       "2   El tercer coche de gasolina más eficiente de n...  \n",
       "3   La buena aceptación que está teniendo el Toyot...  \n",
       "4   El Kia Niro es una opción interesante para aqu...  \n",
       "5   El modelo checo no solo es uno de los más cómo...  \n",
       "6   El popular compacto alemán no quería perderse ...  \n",
       "7   Es uno de los utilitarios más populares del me...  \n",
       "8   Hablar de utilitarios híbridos en España es si...  \n",
       "9   El utilitario japonés repite en esta clasifica...  \n",
       "10  La firma sueca ha apostado fuertemente por las...  \n",
       "11  La nueva generación del BMW Serie 2 Active Tou...  "
      ]
     },
     "execution_count": 17,
     "metadata": {},
     "output_type": "execute_result"
    }
   ],
   "source": [
    "sc_df"
   ]
  },
  {
   "cell_type": "code",
   "execution_count": 18,
   "id": "d18f8486",
   "metadata": {},
   "outputs": [],
   "source": [
    "description_df = sc_df[\"Description\"]"
   ]
  },
  {
   "cell_type": "markdown",
   "id": "db172ad5",
   "metadata": {},
   "source": [
    "## Number Extraction. "
   ]
  },
  {
   "cell_type": "code",
   "execution_count": 19,
   "id": "47571c1e",
   "metadata": {},
   "outputs": [],
   "source": [
    "# Regular expression to extract how many litres(litros) per 100km.  "
   ]
  },
  {
   "cell_type": "code",
   "execution_count": 20,
   "id": "b2f63259",
   "metadata": {},
   "outputs": [],
   "source": [
    "import re"
   ]
  },
  {
   "cell_type": "code",
   "execution_count": 21,
   "id": "f93ca916",
   "metadata": {},
   "outputs": [],
   "source": [
    "text = sc_df[\"Description\"][5] #en el 5,7,8,11 salen 2 números\n",
    "# r\"(\\d+[\\.,]\\d+)\\s*litros\"\n",
    "# r\"(\\d[\\.,]\\d)\\s*litros\"\n",
    "pattern = r\"(\\d[\\.,]?\\d)\\s*litros\"\n",
    "# ()  capturan el número antes de \"caballos\" como un grupo\n",
    "# \\d  coincide con cualquier dígito (0-9)\n",
    "# [\\.,]? ordena que tenga . o , in order to be decimal. Pero el ? permite que sea opcional. De este modo puedo usar la misma fórmula para los caballos también.\n",
    "# \\s* coincide con cero o más caracteres de espacio en blanco.\n",
    "result = re.findall(pattern, text)"
   ]
  },
  {
   "cell_type": "code",
   "execution_count": 22,
   "id": "8c62a25c",
   "metadata": {},
   "outputs": [],
   "source": [
    "# Regular expression to extract how many CVs(caballos) has each car engine.  "
   ]
  },
  {
   "cell_type": "code",
   "execution_count": 23,
   "id": "fa523379",
   "metadata": {},
   "outputs": [
    {
     "data": {
      "text/plain": [
       "['116']"
      ]
     },
     "execution_count": 23,
     "metadata": {},
     "output_type": "execute_result"
    }
   ],
   "source": [
    "text = sc_df[\"Description\"][5]\n",
    "pattern = r\"(\\d+[\\.,]?\\d*)\\s*caballos\" \n",
    "#Here I need to add a \"+\" to get one more digit from the number. \n",
    "result = re.findall(pattern, text)\n",
    "result"
   ]
  },
  {
   "cell_type": "code",
   "execution_count": 24,
   "id": "06557966",
   "metadata": {},
   "outputs": [],
   "source": [
    "def extract_litros(text):\n",
    "    pattern = r\"(\\d[\\.,]?\\d)\\s*litros\"\n",
    "    result = re.findall(pattern, text)\n",
    "    return result"
   ]
  },
  {
   "cell_type": "code",
   "execution_count": 25,
   "id": "a4c58df0",
   "metadata": {},
   "outputs": [],
   "source": [
    "texts = sc_df[\"Description\"]"
   ]
  },
  {
   "cell_type": "code",
   "execution_count": 26,
   "id": "a7de0b43",
   "metadata": {},
   "outputs": [
    {
     "name": "stdout",
     "output_type": "stream",
     "text": [
      "[['4,8'], ['4,7'], ['4,7'], ['4,4'], ['4,4'], ['2.0', '4,2'], ['4,2'], ['1.5', '4,1'], ['3,9', '1.5'], ['3,8'], ['0,7'], ['1.5', '0,6']]\n"
     ]
    }
   ],
   "source": [
    "litres = []\n",
    "for text in texts:\n",
    "    litros = extract_litros(text)\n",
    "    litres.append(litros)\n",
    "print(litres)"
   ]
  },
  {
   "cell_type": "code",
   "execution_count": 27,
   "id": "0bbd62c3",
   "metadata": {},
   "outputs": [
    {
     "data": {
      "text/html": [
       "<div>\n",
       "<style scoped>\n",
       "    .dataframe tbody tr th:only-of-type {\n",
       "        vertical-align: middle;\n",
       "    }\n",
       "\n",
       "    .dataframe tbody tr th {\n",
       "        vertical-align: top;\n",
       "    }\n",
       "\n",
       "    .dataframe thead th {\n",
       "        text-align: right;\n",
       "    }\n",
       "</style>\n",
       "<table border=\"1\" class=\"dataframe\">\n",
       "  <thead>\n",
       "    <tr style=\"text-align: right;\">\n",
       "      <th></th>\n",
       "      <th>0</th>\n",
       "      <th>1</th>\n",
       "    </tr>\n",
       "  </thead>\n",
       "  <tbody>\n",
       "    <tr>\n",
       "      <th>0</th>\n",
       "      <td>4,8</td>\n",
       "      <td>None</td>\n",
       "    </tr>\n",
       "    <tr>\n",
       "      <th>1</th>\n",
       "      <td>4,7</td>\n",
       "      <td>None</td>\n",
       "    </tr>\n",
       "    <tr>\n",
       "      <th>2</th>\n",
       "      <td>4,7</td>\n",
       "      <td>None</td>\n",
       "    </tr>\n",
       "    <tr>\n",
       "      <th>3</th>\n",
       "      <td>4,4</td>\n",
       "      <td>None</td>\n",
       "    </tr>\n",
       "    <tr>\n",
       "      <th>4</th>\n",
       "      <td>4,4</td>\n",
       "      <td>None</td>\n",
       "    </tr>\n",
       "    <tr>\n",
       "      <th>5</th>\n",
       "      <td>2.0</td>\n",
       "      <td>4,2</td>\n",
       "    </tr>\n",
       "    <tr>\n",
       "      <th>6</th>\n",
       "      <td>4,2</td>\n",
       "      <td>None</td>\n",
       "    </tr>\n",
       "    <tr>\n",
       "      <th>7</th>\n",
       "      <td>1.5</td>\n",
       "      <td>4,1</td>\n",
       "    </tr>\n",
       "    <tr>\n",
       "      <th>8</th>\n",
       "      <td>3,9</td>\n",
       "      <td>1.5</td>\n",
       "    </tr>\n",
       "    <tr>\n",
       "      <th>9</th>\n",
       "      <td>3,8</td>\n",
       "      <td>None</td>\n",
       "    </tr>\n",
       "    <tr>\n",
       "      <th>10</th>\n",
       "      <td>0,7</td>\n",
       "      <td>None</td>\n",
       "    </tr>\n",
       "    <tr>\n",
       "      <th>11</th>\n",
       "      <td>1.5</td>\n",
       "      <td>0,6</td>\n",
       "    </tr>\n",
       "  </tbody>\n",
       "</table>\n",
       "</div>"
      ],
      "text/plain": [
       "      0     1\n",
       "0   4,8  None\n",
       "1   4,7  None\n",
       "2   4,7  None\n",
       "3   4,4  None\n",
       "4   4,4  None\n",
       "5   2.0   4,2\n",
       "6   4,2  None\n",
       "7   1.5   4,1\n",
       "8   3,9   1.5\n",
       "9   3,8  None\n",
       "10  0,7  None\n",
       "11  1.5   0,6"
      ]
     },
     "execution_count": 27,
     "metadata": {},
     "output_type": "execute_result"
    }
   ],
   "source": [
    "litres = pd.DataFrame(litres)\n",
    "litres"
   ]
  },
  {
   "cell_type": "code",
   "execution_count": 28,
   "id": "4ab814ae",
   "metadata": {},
   "outputs": [
    {
     "data": {
      "text/html": [
       "<div>\n",
       "<style scoped>\n",
       "    .dataframe tbody tr th:only-of-type {\n",
       "        vertical-align: middle;\n",
       "    }\n",
       "\n",
       "    .dataframe tbody tr th {\n",
       "        vertical-align: top;\n",
       "    }\n",
       "\n",
       "    .dataframe thead th {\n",
       "        text-align: right;\n",
       "    }\n",
       "</style>\n",
       "<table border=\"1\" class=\"dataframe\">\n",
       "  <thead>\n",
       "    <tr style=\"text-align: right;\">\n",
       "      <th></th>\n",
       "      <th>0</th>\n",
       "      <th>1</th>\n",
       "    </tr>\n",
       "  </thead>\n",
       "  <tbody>\n",
       "    <tr>\n",
       "      <th>0</th>\n",
       "      <td>4,8</td>\n",
       "      <td>None</td>\n",
       "    </tr>\n",
       "    <tr>\n",
       "      <th>1</th>\n",
       "      <td>4,7</td>\n",
       "      <td>None</td>\n",
       "    </tr>\n",
       "    <tr>\n",
       "      <th>2</th>\n",
       "      <td>4,7</td>\n",
       "      <td>None</td>\n",
       "    </tr>\n",
       "    <tr>\n",
       "      <th>3</th>\n",
       "      <td>4,4</td>\n",
       "      <td>None</td>\n",
       "    </tr>\n",
       "    <tr>\n",
       "      <th>4</th>\n",
       "      <td>4,4</td>\n",
       "      <td>None</td>\n",
       "    </tr>\n",
       "    <tr>\n",
       "      <th>5</th>\n",
       "      <td>2.0</td>\n",
       "      <td>4,2</td>\n",
       "    </tr>\n",
       "    <tr>\n",
       "      <th>6</th>\n",
       "      <td>4,2</td>\n",
       "      <td>None</td>\n",
       "    </tr>\n",
       "    <tr>\n",
       "      <th>7</th>\n",
       "      <td>1.5</td>\n",
       "      <td>4,1</td>\n",
       "    </tr>\n",
       "    <tr>\n",
       "      <th>8</th>\n",
       "      <td>3,9</td>\n",
       "      <td>NaN</td>\n",
       "    </tr>\n",
       "    <tr>\n",
       "      <th>9</th>\n",
       "      <td>3,8</td>\n",
       "      <td>None</td>\n",
       "    </tr>\n",
       "    <tr>\n",
       "      <th>10</th>\n",
       "      <td>0,7</td>\n",
       "      <td>None</td>\n",
       "    </tr>\n",
       "    <tr>\n",
       "      <th>11</th>\n",
       "      <td>1.5</td>\n",
       "      <td>NaN</td>\n",
       "    </tr>\n",
       "  </tbody>\n",
       "</table>\n",
       "</div>"
      ],
      "text/plain": [
       "      0     1\n",
       "0   4,8  None\n",
       "1   4,7  None\n",
       "2   4,7  None\n",
       "3   4,4  None\n",
       "4   4,4  None\n",
       "5   2.0   4,2\n",
       "6   4,2  None\n",
       "7   1.5   4,1\n",
       "8   3,9   NaN\n",
       "9   3,8  None\n",
       "10  0,7  None\n",
       "11  1.5   NaN"
      ]
     },
     "execution_count": 28,
     "metadata": {},
     "output_type": "execute_result"
    }
   ],
   "source": [
    "# Remove values in Column 2 that are smaller than Column 1\n",
    "litres.loc[litres[1] < litres[0], 1] = float('nan')\n",
    "# I am removing the smaller ones because they refer to another data, not l per 100km. \n",
    "litres"
   ]
  },
  {
   "cell_type": "code",
   "execution_count": 29,
   "id": "1fbdaba9",
   "metadata": {},
   "outputs": [],
   "source": [
    "# Check if both columns have non-null values.\n",
    "check_Nvalues = litres[0].notnull() & litres[1].notnull()"
   ]
  },
  {
   "cell_type": "code",
   "execution_count": 30,
   "id": "ca6ac963",
   "metadata": {},
   "outputs": [
    {
     "data": {
      "text/html": [
       "<div>\n",
       "<style scoped>\n",
       "    .dataframe tbody tr th:only-of-type {\n",
       "        vertical-align: middle;\n",
       "    }\n",
       "\n",
       "    .dataframe tbody tr th {\n",
       "        vertical-align: top;\n",
       "    }\n",
       "\n",
       "    .dataframe thead th {\n",
       "        text-align: right;\n",
       "    }\n",
       "</style>\n",
       "<table border=\"1\" class=\"dataframe\">\n",
       "  <thead>\n",
       "    <tr style=\"text-align: right;\">\n",
       "      <th></th>\n",
       "      <th>0</th>\n",
       "      <th>1</th>\n",
       "    </tr>\n",
       "  </thead>\n",
       "  <tbody>\n",
       "    <tr>\n",
       "      <th>0</th>\n",
       "      <td>4,8</td>\n",
       "      <td>None</td>\n",
       "    </tr>\n",
       "    <tr>\n",
       "      <th>1</th>\n",
       "      <td>4,7</td>\n",
       "      <td>None</td>\n",
       "    </tr>\n",
       "    <tr>\n",
       "      <th>2</th>\n",
       "      <td>4,7</td>\n",
       "      <td>None</td>\n",
       "    </tr>\n",
       "    <tr>\n",
       "      <th>3</th>\n",
       "      <td>4,4</td>\n",
       "      <td>None</td>\n",
       "    </tr>\n",
       "    <tr>\n",
       "      <th>4</th>\n",
       "      <td>4,4</td>\n",
       "      <td>None</td>\n",
       "    </tr>\n",
       "    <tr>\n",
       "      <th>5</th>\n",
       "      <td>4,2</td>\n",
       "      <td>2.0</td>\n",
       "    </tr>\n",
       "    <tr>\n",
       "      <th>6</th>\n",
       "      <td>4,2</td>\n",
       "      <td>None</td>\n",
       "    </tr>\n",
       "    <tr>\n",
       "      <th>7</th>\n",
       "      <td>4,1</td>\n",
       "      <td>1.5</td>\n",
       "    </tr>\n",
       "    <tr>\n",
       "      <th>8</th>\n",
       "      <td>3,9</td>\n",
       "      <td>NaN</td>\n",
       "    </tr>\n",
       "    <tr>\n",
       "      <th>9</th>\n",
       "      <td>3,8</td>\n",
       "      <td>None</td>\n",
       "    </tr>\n",
       "    <tr>\n",
       "      <th>10</th>\n",
       "      <td>0,7</td>\n",
       "      <td>None</td>\n",
       "    </tr>\n",
       "    <tr>\n",
       "      <th>11</th>\n",
       "      <td>1.5</td>\n",
       "      <td>NaN</td>\n",
       "    </tr>\n",
       "  </tbody>\n",
       "</table>\n",
       "</div>"
      ],
      "text/plain": [
       "      0     1\n",
       "0   4,8  None\n",
       "1   4,7  None\n",
       "2   4,7  None\n",
       "3   4,4  None\n",
       "4   4,4  None\n",
       "5   4,2   2.0\n",
       "6   4,2  None\n",
       "7   4,1   1.5\n",
       "8   3,9   NaN\n",
       "9   3,8  None\n",
       "10  0,7  None\n",
       "11  1.5   NaN"
      ]
     },
     "execution_count": 30,
     "metadata": {},
     "output_type": "execute_result"
    }
   ],
   "source": [
    "# Switch values between Column 0 and Column 1 because the values left in the column 1 are higher.\n",
    "\n",
    "litres.loc[check_Nvalues, [0, 1]] = litres.loc[check_Nvalues, [1, 0]].values\n",
    "\n",
    "litres"
   ]
  },
  {
   "cell_type": "code",
   "execution_count": 31,
   "id": "8b16d581",
   "metadata": {},
   "outputs": [
    {
     "data": {
      "text/html": [
       "<div>\n",
       "<style scoped>\n",
       "    .dataframe tbody tr th:only-of-type {\n",
       "        vertical-align: middle;\n",
       "    }\n",
       "\n",
       "    .dataframe tbody tr th {\n",
       "        vertical-align: top;\n",
       "    }\n",
       "\n",
       "    .dataframe thead th {\n",
       "        text-align: right;\n",
       "    }\n",
       "</style>\n",
       "<table border=\"1\" class=\"dataframe\">\n",
       "  <thead>\n",
       "    <tr style=\"text-align: right;\">\n",
       "      <th></th>\n",
       "      <th>0</th>\n",
       "    </tr>\n",
       "  </thead>\n",
       "  <tbody>\n",
       "    <tr>\n",
       "      <th>0</th>\n",
       "      <td>4,8</td>\n",
       "    </tr>\n",
       "    <tr>\n",
       "      <th>1</th>\n",
       "      <td>4,7</td>\n",
       "    </tr>\n",
       "    <tr>\n",
       "      <th>2</th>\n",
       "      <td>4,7</td>\n",
       "    </tr>\n",
       "    <tr>\n",
       "      <th>3</th>\n",
       "      <td>4,4</td>\n",
       "    </tr>\n",
       "    <tr>\n",
       "      <th>4</th>\n",
       "      <td>4,4</td>\n",
       "    </tr>\n",
       "    <tr>\n",
       "      <th>5</th>\n",
       "      <td>4,2</td>\n",
       "    </tr>\n",
       "    <tr>\n",
       "      <th>6</th>\n",
       "      <td>4,2</td>\n",
       "    </tr>\n",
       "    <tr>\n",
       "      <th>7</th>\n",
       "      <td>4,1</td>\n",
       "    </tr>\n",
       "    <tr>\n",
       "      <th>8</th>\n",
       "      <td>3,9</td>\n",
       "    </tr>\n",
       "    <tr>\n",
       "      <th>9</th>\n",
       "      <td>3,8</td>\n",
       "    </tr>\n",
       "    <tr>\n",
       "      <th>10</th>\n",
       "      <td>0,7</td>\n",
       "    </tr>\n",
       "    <tr>\n",
       "      <th>11</th>\n",
       "      <td>1.5</td>\n",
       "    </tr>\n",
       "  </tbody>\n",
       "</table>\n",
       "</div>"
      ],
      "text/plain": [
       "      0\n",
       "0   4,8\n",
       "1   4,7\n",
       "2   4,7\n",
       "3   4,4\n",
       "4   4,4\n",
       "5   4,2\n",
       "6   4,2\n",
       "7   4,1\n",
       "8   3,9\n",
       "9   3,8\n",
       "10  0,7\n",
       "11  1.5"
      ]
     },
     "execution_count": 31,
     "metadata": {},
     "output_type": "execute_result"
    }
   ],
   "source": [
    "litres = litres.drop(1, axis=1)\n",
    "# Rename the colum 0 per Lper100km.\n",
    "litres"
   ]
  },
  {
   "cell_type": "code",
   "execution_count": 32,
   "id": "b525a4f9",
   "metadata": {},
   "outputs": [],
   "source": [
    "litres = pd.DataFrame(litres)\n",
    "#litres = litres.reset_index(drop=True, inplace=True)"
   ]
  },
  {
   "cell_type": "code",
   "execution_count": 33,
   "id": "a2f27bfc",
   "metadata": {},
   "outputs": [],
   "source": [
    "litres = litres.rename(columns={0:'litres'})"
   ]
  },
  {
   "cell_type": "code",
   "execution_count": 34,
   "id": "567ed9d6",
   "metadata": {},
   "outputs": [
    {
     "data": {
      "text/html": [
       "<div>\n",
       "<style scoped>\n",
       "    .dataframe tbody tr th:only-of-type {\n",
       "        vertical-align: middle;\n",
       "    }\n",
       "\n",
       "    .dataframe tbody tr th {\n",
       "        vertical-align: top;\n",
       "    }\n",
       "\n",
       "    .dataframe thead th {\n",
       "        text-align: right;\n",
       "    }\n",
       "</style>\n",
       "<table border=\"1\" class=\"dataframe\">\n",
       "  <thead>\n",
       "    <tr style=\"text-align: right;\">\n",
       "      <th></th>\n",
       "      <th>litres</th>\n",
       "    </tr>\n",
       "  </thead>\n",
       "  <tbody>\n",
       "    <tr>\n",
       "      <th>0</th>\n",
       "      <td>4,8</td>\n",
       "    </tr>\n",
       "    <tr>\n",
       "      <th>1</th>\n",
       "      <td>4,7</td>\n",
       "    </tr>\n",
       "    <tr>\n",
       "      <th>2</th>\n",
       "      <td>4,7</td>\n",
       "    </tr>\n",
       "    <tr>\n",
       "      <th>3</th>\n",
       "      <td>4,4</td>\n",
       "    </tr>\n",
       "    <tr>\n",
       "      <th>4</th>\n",
       "      <td>4,4</td>\n",
       "    </tr>\n",
       "    <tr>\n",
       "      <th>5</th>\n",
       "      <td>4,2</td>\n",
       "    </tr>\n",
       "    <tr>\n",
       "      <th>6</th>\n",
       "      <td>4,2</td>\n",
       "    </tr>\n",
       "    <tr>\n",
       "      <th>7</th>\n",
       "      <td>4,1</td>\n",
       "    </tr>\n",
       "    <tr>\n",
       "      <th>8</th>\n",
       "      <td>3,9</td>\n",
       "    </tr>\n",
       "    <tr>\n",
       "      <th>9</th>\n",
       "      <td>3,8</td>\n",
       "    </tr>\n",
       "    <tr>\n",
       "      <th>10</th>\n",
       "      <td>0,7</td>\n",
       "    </tr>\n",
       "    <tr>\n",
       "      <th>11</th>\n",
       "      <td>1.5</td>\n",
       "    </tr>\n",
       "  </tbody>\n",
       "</table>\n",
       "</div>"
      ],
      "text/plain": [
       "   litres\n",
       "0     4,8\n",
       "1     4,7\n",
       "2     4,7\n",
       "3     4,4\n",
       "4     4,4\n",
       "5     4,2\n",
       "6     4,2\n",
       "7     4,1\n",
       "8     3,9\n",
       "9     3,8\n",
       "10    0,7\n",
       "11    1.5"
      ]
     },
     "execution_count": 34,
     "metadata": {},
     "output_type": "execute_result"
    }
   ],
   "source": [
    "litres"
   ]
  },
  {
   "cell_type": "code",
   "execution_count": 35,
   "id": "e2352141",
   "metadata": {},
   "outputs": [],
   "source": [
    "def extract_caballos(text): #Caballo/s means horse/s.\n",
    "    pattern = r\"(\\d+[\\.,]?\\d*)\\s*caballos\"\n",
    "    result = re.findall(pattern, text)\n",
    "    return result"
   ]
  },
  {
   "cell_type": "code",
   "execution_count": 36,
   "id": "37f80e05",
   "metadata": {},
   "outputs": [
    {
     "name": "stdout",
     "output_type": "stream",
     "text": [
      "[['72'], ['83'], ['90'], ['116'], ['141'], ['116'], ['115'], ['100'], ['116'], ['116'], ['455'], ['245']]\n"
     ]
    }
   ],
   "source": [
    "horsepower = []\n",
    "for text in texts:\n",
    "    caballo = extract_caballos(text)\n",
    "    horsepower.append(caballo)\n",
    "print(horsepower)"
   ]
  },
  {
   "cell_type": "code",
   "execution_count": 37,
   "id": "ce784372",
   "metadata": {},
   "outputs": [],
   "source": [
    "horsepower = pd.DataFrame(horsepower)\n",
    "#horsepower = horsepower.reset_index(drop=True, inplace=True)"
   ]
  },
  {
   "cell_type": "code",
   "execution_count": 38,
   "id": "0cea8a86",
   "metadata": {},
   "outputs": [],
   "source": [
    "horsepower = horsepower.rename(columns={0:'horsepower'})"
   ]
  },
  {
   "cell_type": "code",
   "execution_count": 39,
   "id": "d6cce7bd",
   "metadata": {},
   "outputs": [
    {
     "data": {
      "text/html": [
       "<div>\n",
       "<style scoped>\n",
       "    .dataframe tbody tr th:only-of-type {\n",
       "        vertical-align: middle;\n",
       "    }\n",
       "\n",
       "    .dataframe tbody tr th {\n",
       "        vertical-align: top;\n",
       "    }\n",
       "\n",
       "    .dataframe thead th {\n",
       "        text-align: right;\n",
       "    }\n",
       "</style>\n",
       "<table border=\"1\" class=\"dataframe\">\n",
       "  <thead>\n",
       "    <tr style=\"text-align: right;\">\n",
       "      <th></th>\n",
       "      <th>horsepower</th>\n",
       "    </tr>\n",
       "  </thead>\n",
       "  <tbody>\n",
       "    <tr>\n",
       "      <th>0</th>\n",
       "      <td>72</td>\n",
       "    </tr>\n",
       "    <tr>\n",
       "      <th>1</th>\n",
       "      <td>83</td>\n",
       "    </tr>\n",
       "    <tr>\n",
       "      <th>2</th>\n",
       "      <td>90</td>\n",
       "    </tr>\n",
       "    <tr>\n",
       "      <th>3</th>\n",
       "      <td>116</td>\n",
       "    </tr>\n",
       "    <tr>\n",
       "      <th>4</th>\n",
       "      <td>141</td>\n",
       "    </tr>\n",
       "    <tr>\n",
       "      <th>5</th>\n",
       "      <td>116</td>\n",
       "    </tr>\n",
       "    <tr>\n",
       "      <th>6</th>\n",
       "      <td>115</td>\n",
       "    </tr>\n",
       "    <tr>\n",
       "      <th>7</th>\n",
       "      <td>100</td>\n",
       "    </tr>\n",
       "    <tr>\n",
       "      <th>8</th>\n",
       "      <td>116</td>\n",
       "    </tr>\n",
       "    <tr>\n",
       "      <th>9</th>\n",
       "      <td>116</td>\n",
       "    </tr>\n",
       "    <tr>\n",
       "      <th>10</th>\n",
       "      <td>455</td>\n",
       "    </tr>\n",
       "    <tr>\n",
       "      <th>11</th>\n",
       "      <td>245</td>\n",
       "    </tr>\n",
       "  </tbody>\n",
       "</table>\n",
       "</div>"
      ],
      "text/plain": [
       "   horsepower\n",
       "0          72\n",
       "1          83\n",
       "2          90\n",
       "3         116\n",
       "4         141\n",
       "5         116\n",
       "6         115\n",
       "7         100\n",
       "8         116\n",
       "9         116\n",
       "10        455\n",
       "11        245"
      ]
     },
     "execution_count": 39,
     "metadata": {},
     "output_type": "execute_result"
    }
   ],
   "source": [
    "horsepower"
   ]
  },
  {
   "cell_type": "code",
   "execution_count": 40,
   "id": "33d5da19",
   "metadata": {},
   "outputs": [],
   "source": [
    "sc_columns = pd.concat([litres,horsepower], axis=1)"
   ]
  },
  {
   "cell_type": "code",
   "execution_count": 41,
   "id": "f33cc09e",
   "metadata": {},
   "outputs": [],
   "source": [
    "# I dón't need to use this one: sc_columns = pd.DataFrame(sc_columns)  \n",
    "# because both dataset were already a datafrmae\n",
    "sc_columns[\"Car model\"] = sc_df[\"Car model\"]"
   ]
  },
  {
   "cell_type": "code",
   "execution_count": 42,
   "id": "9340e54f",
   "metadata": {},
   "outputs": [
    {
     "data": {
      "text/html": [
       "<div>\n",
       "<style scoped>\n",
       "    .dataframe tbody tr th:only-of-type {\n",
       "        vertical-align: middle;\n",
       "    }\n",
       "\n",
       "    .dataframe tbody tr th {\n",
       "        vertical-align: top;\n",
       "    }\n",
       "\n",
       "    .dataframe thead th {\n",
       "        text-align: right;\n",
       "    }\n",
       "</style>\n",
       "<table border=\"1\" class=\"dataframe\">\n",
       "  <thead>\n",
       "    <tr style=\"text-align: right;\">\n",
       "      <th></th>\n",
       "      <th>litres</th>\n",
       "      <th>horsepower</th>\n",
       "      <th>Car model</th>\n",
       "    </tr>\n",
       "  </thead>\n",
       "  <tbody>\n",
       "    <tr>\n",
       "      <th>0</th>\n",
       "      <td>4,8</td>\n",
       "      <td>72</td>\n",
       "      <td>Toyota Aygo X Cross (gasolina)</td>\n",
       "    </tr>\n",
       "    <tr>\n",
       "      <th>1</th>\n",
       "      <td>4,7</td>\n",
       "      <td>83</td>\n",
       "      <td>Suzuki Swift (gasolina)</td>\n",
       "    </tr>\n",
       "    <tr>\n",
       "      <th>2</th>\n",
       "      <td>4,7</td>\n",
       "      <td>90</td>\n",
       "      <td>Mazda 2 (gasolina)</td>\n",
       "    </tr>\n",
       "    <tr>\n",
       "      <th>3</th>\n",
       "      <td>4,4</td>\n",
       "      <td>116</td>\n",
       "      <td>Toyota Yaris Cross (híbrido)</td>\n",
       "    </tr>\n",
       "    <tr>\n",
       "      <th>4</th>\n",
       "      <td>4,4</td>\n",
       "      <td>141</td>\n",
       "      <td>Kia Niro (Híbrido)</td>\n",
       "    </tr>\n",
       "    <tr>\n",
       "      <th>5</th>\n",
       "      <td>4,2</td>\n",
       "      <td>116</td>\n",
       "      <td>Skoda Octavia (diésel)</td>\n",
       "    </tr>\n",
       "    <tr>\n",
       "      <th>6</th>\n",
       "      <td>4,2</td>\n",
       "      <td>115</td>\n",
       "      <td>Volkswagen Golf (diésel)</td>\n",
       "    </tr>\n",
       "    <tr>\n",
       "      <th>7</th>\n",
       "      <td>4,1</td>\n",
       "      <td>100</td>\n",
       "      <td>Renault Clio (diésel)</td>\n",
       "    </tr>\n",
       "    <tr>\n",
       "      <th>8</th>\n",
       "      <td>3,9</td>\n",
       "      <td>116</td>\n",
       "      <td>Toyota Yaris (híbrido)</td>\n",
       "    </tr>\n",
       "    <tr>\n",
       "      <th>9</th>\n",
       "      <td>3,8</td>\n",
       "      <td>116</td>\n",
       "      <td>Mazda 2 Hybrid (híbrido)</td>\n",
       "    </tr>\n",
       "    <tr>\n",
       "      <th>10</th>\n",
       "      <td>0,7</td>\n",
       "      <td>455</td>\n",
       "      <td>Volvo S60 (PHEV)</td>\n",
       "    </tr>\n",
       "    <tr>\n",
       "      <th>11</th>\n",
       "      <td>1.5</td>\n",
       "      <td>245</td>\n",
       "      <td>BMW Serie 2 Active Tourer (PHEV)</td>\n",
       "    </tr>\n",
       "  </tbody>\n",
       "</table>\n",
       "</div>"
      ],
      "text/plain": [
       "   litres horsepower                         Car model\n",
       "0     4,8         72    Toyota Aygo X Cross (gasolina)\n",
       "1     4,7         83           Suzuki Swift (gasolina)\n",
       "2     4,7         90                Mazda 2 (gasolina)\n",
       "3     4,4        116      Toyota Yaris Cross (híbrido)\n",
       "4     4,4        141                Kia Niro (Híbrido)\n",
       "5     4,2        116            Skoda Octavia (diésel)\n",
       "6     4,2        115          Volkswagen Golf (diésel)\n",
       "7     4,1        100             Renault Clio (diésel)\n",
       "8     3,9        116            Toyota Yaris (híbrido)\n",
       "9     3,8        116          Mazda 2 Hybrid (híbrido)\n",
       "10    0,7        455                  Volvo S60 (PHEV)\n",
       "11    1.5        245  BMW Serie 2 Active Tourer (PHEV)"
      ]
     },
     "execution_count": 42,
     "metadata": {},
     "output_type": "execute_result"
    }
   ],
   "source": [
    "sc_columns"
   ]
  }
 ],
 "metadata": {
  "kernelspec": {
   "display_name": "Python 3 (ipykernel)",
   "language": "python",
   "name": "python3"
  },
  "language_info": {
   "codemirror_mode": {
    "name": "ipython",
    "version": 3
   },
   "file_extension": ".py",
   "mimetype": "text/x-python",
   "name": "python",
   "nbconvert_exporter": "python",
   "pygments_lexer": "ipython3",
   "version": "3.10.9"
  }
 },
 "nbformat": 4,
 "nbformat_minor": 5
}
